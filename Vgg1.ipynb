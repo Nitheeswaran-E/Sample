{
 "cells": [
  {
   "cell_type": "code",
   "execution_count": 5,
   "metadata": {},
   "outputs": [
    {
     "name": "stdout",
     "output_type": "stream",
     "text": [
      "Data shape: (1828, 150, 150, 3)\n",
      "Labels shape: (1828,)\n"
     ]
    }
   ],
   "source": [
    "import os\n",
    "import cv2  #compter Vision\n",
    "import numpy as np\n",
    "from tensorflow.keras.preprocessing.image import img_to_array\n",
    "import tensorflow as tf\n",
    " #convert pIL image to Numpy array\n",
    "\n",
    "# Define the dataset folder path\n",
    "dataset_path = 'C:/Users/sanju/OneDrive/Documents/Nitheesh/Medicinal Leaf Dataset/Segmented Medicinal Leaf Images'\n",
    "\n",
    "# Define the fixed size for the images\n",
    "img_size = (150,150,3)\n",
    "\n",
    "# Load the dataset\n",
    "data = []\n",
    "labels = []\n",
    "for folder in os.listdir(dataset_path):\n",
    "    folder_path = os.path.join(dataset_path, folder)\n",
    "    if os.path.isdir(folder_path):\n",
    "        for filename in os.listdir(folder_path):\n",
    "            if filename.endswith('.jpg'):\n",
    "                image_path = os.path.join(folder_path, filename)\n",
    "                image = cv2.imread(image_path) #read the image file\n",
    "               # image = cv2.resize(image, img_size) # resize two-integer tuple argument the width and height\n",
    "                image = cv2.resize(image, (150, 150))\n",
    "                # image = cv2.cvtColor(image, cv2.COLOR_BGR2GRAY)\n",
    "                # image = cv2.normalize(image.astype('float'), None, 0.0, 1.0, cv2.NORM_MINMAX)#a process that changes the range of pixel intensity values\n",
    "                image = img_to_array(image)\n",
    "                data.append(image)\n",
    "                labels.append(folder)\n",
    "\n",
    "# Convert the data and labels to arrays\n",
    "data = np.array(data, dtype='float32')\n",
    "labels = np.array(labels)\n",
    "\n",
    "# Print the shape of the data and labels arrays\n",
    "print('Data shape:', data.shape)\n",
    "print('Labels shape:', labels.shape)"
   ]
  },
  {
   "cell_type": "code",
   "execution_count": 6,
   "metadata": {},
   "outputs": [
    {
     "name": "stderr",
     "output_type": "stream",
     "text": [
      "c:\\Users\\sanju\\AppData\\Local\\Programs\\Python\\Python311\\Lib\\site-packages\\sklearn\\preprocessing\\_encoders.py:972: FutureWarning: `sparse` was renamed to `sparse_output` in version 1.2 and will be removed in 1.4. `sparse_output` is ignored unless you leave `sparse` to its default value.\n",
      "  warnings.warn(\n"
     ]
    }
   ],
   "source": [
    "from sklearn.preprocessing import LabelEncoder, OneHotEncoder\n",
    "from sklearn.model_selection import train_test_split\n",
    "label_encoder = LabelEncoder()\n",
    "integer_encoded = label_encoder.fit_transform(labels)\n",
    "onehot_encoder = OneHotEncoder(sparse=False)\n",
    "integer_encoded = integer_encoded.reshape(len(integer_encoded), 1)\n",
    "labels = onehot_encoder.fit_transform(integer_encoded)\n",
    "\n",
    "# Split the dataset into training and testing sets\n",
    "X_train, X_test, y_train, y_test = train_test_split(data, labels, test_size=0.2, random_state=42)"
   ]
  },
  {
   "cell_type": "code",
   "execution_count": 7,
   "metadata": {},
   "outputs": [
    {
     "name": "stdout",
     "output_type": "stream",
     "text": [
      "Epoch 1/10\n",
      "46/46 [==============================] - 85s 2s/step - loss: 15.9424 - accuracy: 0.1744\n",
      "Epoch 2/10\n",
      "46/46 [==============================] - 109s 2s/step - loss: 4.7550 - accuracy: 0.3249\n",
      "Epoch 3/10\n",
      "46/46 [==============================] - 80s 2s/step - loss: 3.1254 - accuracy: 0.4083\n",
      "Epoch 4/10\n",
      "46/46 [==============================] - 3002s 67s/step - loss: 2.3410 - accuracy: 0.4952\n",
      "Epoch 5/10\n",
      "46/46 [==============================] - 65s 1s/step - loss: 2.1926 - accuracy: 0.5335\n",
      "Epoch 6/10\n",
      "46/46 [==============================] - 79s 2s/step - loss: 1.7676 - accuracy: 0.6074\n",
      "Epoch 7/10\n",
      "46/46 [==============================] - 95s 2s/step - loss: 1.6135 - accuracy: 0.6245\n",
      "Epoch 8/10\n",
      "46/46 [==============================] - 143s 3s/step - loss: 1.3007 - accuracy: 0.7107\n",
      "Epoch 9/10\n",
      "46/46 [==============================] - 147s 3s/step - loss: 1.1355 - accuracy: 0.7230\n",
      "Epoch 10/10\n",
      "46/46 [==============================] - 146s 3s/step - loss: 1.0154 - accuracy: 0.7497\n"
     ]
    }
   ],
   "source": [
    "import tensorflow as tf\n",
    "from tensorflow.keras.applications import VGG16\n",
    "from tensorflow.keras.models import Sequential\n",
    "from tensorflow.keras.layers import Dense, Flatten, Dropout\n",
    "\n",
    "# Define the CNN model\n",
    "model = Sequential()\n",
    "base_model = VGG16(include_top=False, input_shape=(150, 150, 3))  # Use the pre-trained VGG16 model\n",
    "for layer in base_model.layers:\n",
    "    layer.trainable = False  # Freeze the weights of the pre-trained layers\n",
    "model.add(base_model)\n",
    "model.add(Flatten())\n",
    "model.add(Dense(512, activation='relu'))\n",
    "model.add(Dropout(0.5))\n",
    "model.add(Dense(128, activation='relu'))\n",
    "model.add(Dropout(0.5))\n",
    "# model.add(Dense(64,activation='relu'))\n",
    "# model.add(Dropout(0.5))\n",
    "model.add(Dense(30, activation='softmax'))  # Use softmax activation for multi-class classification\n",
    "\n",
    "# Compile the model\n",
    "model.compile(optimizer='adam', loss='categorical_crossentropy', metrics=['accuracy'])\n",
    "# Train the model\n",
    "history = model.fit(X_train, y_train, epochs=10)\n"
   ]
  },
  {
   "cell_type": "code",
   "execution_count": 8,
   "metadata": {},
   "outputs": [
    {
     "name": "stdout",
     "output_type": "stream",
     "text": [
      "12/12 [==============================] - 26s 2s/step\n",
      "Accuracy is : 0.8961748633879781\n",
      "Precision is : 0.917450809392447\n",
      "Recall is : 0.8961748633879781\n",
      "F1 Score 0.8897807101427696\n"
     ]
    }
   ],
   "source": [
    "from sklearn.metrics import accuracy_score, precision_score, recall_score, f1_score, confusion_matrix\n",
    "\n",
    "# Evaluate the model on the testing set\n",
    "y_pred = model.predict(X_test)\n",
    "y_pred_classes = np.argmax(y_pred, axis=1)\n",
    "y_test_classes = np.argmax(y_test, axis=1)\n",
    "\n",
    "# Calculate the accuracy, precision, recall, and F1-score\n",
    "accuracy = accuracy_score(y_test_classes, y_pred_classes)\n",
    "precision = precision_score(y_test_classes, y_pred_classes, average='weighted')\n",
    "recall = recall_score(y_test_classes, y_pred_classes, average='weighted')\n",
    "f1 = f1_score(y_test_classes, y_pred_classes, average='weighted')\n",
    "confusion = confusion_matrix(y_test_classes, y_pred_classes)\n",
    "print(\"Accuracy is :\" ,accuracy)\n",
    "print(\"Precision is :\" ,precision)\n",
    "print(\"Recall is :\",recall)\n",
    "print(\"F1 Score\" ,f1)"
   ]
  }
 ],
 "metadata": {
  "kernelspec": {
   "display_name": "Python 3",
   "language": "python",
   "name": "python3"
  },
  "language_info": {
   "codemirror_mode": {
    "name": "ipython",
    "version": 3
   },
   "file_extension": ".py",
   "mimetype": "text/x-python",
   "name": "python",
   "nbconvert_exporter": "python",
   "pygments_lexer": "ipython3",
   "version": "3.11.2"
  },
  "orig_nbformat": 4
 },
 "nbformat": 4,
 "nbformat_minor": 2
}
