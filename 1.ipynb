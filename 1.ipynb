{
 "cells": [
  {
   "cell_type": "code",
   "execution_count": 22,
   "metadata": {},
   "outputs": [],
   "source": [
    "import numpy as np\n",
    "import os\n",
    "from sklearn.metrics import confusion_matrix\n",
    "import seaborn as sn; sn.set(font_scale=1.4)\n",
    "from sklearn.utils import shuffle           \n",
    "import matplotlib.pyplot as plt             \n",
    "import cv2                                 \n",
    "import tensorflow as tf\n",
    "import PIL.ImageOps as ImageOps\n",
    "import PIL.Image as Image\n",
    "from tqdm import tqdm"
   ]
  },
  {
   "cell_type": "code",
   "execution_count": 23,
   "metadata": {},
   "outputs": [],
   "source": [
    "class_names = ['Arive-Dantu',\n",
    "                'Basale',\n",
    "               'Betel',\n",
    "               'Crape_Jasmine',\n",
    "               'Curry', 'Drumstick',\n",
    "               'Fenugreek',\n",
    "               'Guava',\n",
    "               'Hibiscus',\n",
    "               'Indian_Beech',\n",
    "               'Indian_Mustard',\n",
    "               'Jackfruit',\n",
    "               'Jamaica_Cherry-Gasagase',\n",
    "               'Jamun',\n",
    "               'Jasmine',\n",
    "               'Karanda',\n",
    "               'Lemon',\n",
    "               'Mango',\n",
    "               'Mexican_Mint',\n",
    "               'Mint',\n",
    "               'Neem',\n",
    "               'Oleander',\n",
    "               'Parijata',\n",
    "               'Peepal',\n",
    "               'Pomegranate',\n",
    "               'Rasna',\n",
    "               'Rose_apple',\n",
    "               'Roxburgh_fig',\n",
    "               'Sandalwood',\n",
    "               'Tulsi']\n",
    "class_names_label = {class_name:i for i, class_name in enumerate(class_names)}\n",
    "\n",
    "nb_classes = len(class_names)\n",
    "\n",
    "IMAGE_SIZE = (150,150)"
   ]
  },
  {
   "cell_type": "code",
   "execution_count": 24,
   "metadata": {},
   "outputs": [],
   "source": [
    "def pre_process(img_path):\n",
    "    image = cv2.imread(img_path)\n",
    "    image = cv2.cvtColor(image, cv2.COLOR_BGR2RGB)\n",
    "    image = cv2.resize(image, IMAGE_SIZE) \n",
    "    return image"
   ]
  },
  {
   "cell_type": "code",
   "execution_count": 25,
   "metadata": {},
   "outputs": [],
   "source": [
    "def load_data():\n",
    "    \n",
    "    datasets = ['C:/Users/sanju/OneDrive/Desktop/Nitheesh/Medicinal plant/Segmented','C:/Users/sanju/OneDrive/Desktop/Nitheesh/Test']\n",
    "    output = []\n",
    "    \n",
    "    # Iterate through training and test sets\n",
    "    for dataset in datasets:\n",
    "        \n",
    "        images = []\n",
    "        labels = []\n",
    "        \n",
    "        print(\"Loading {}\".format(dataset))\n",
    "        \n",
    "        # Iterate through each folder corresponding to a category\n",
    "        for folder in os.listdir(dataset):\n",
    "            label = class_names_label[folder]\n",
    "            \n",
    "            # Iterate through each image in our folder\n",
    "            for file in tqdm(os.listdir(os.path.join(dataset, folder))):\n",
    "                \n",
    "                # Get the path name of the image\n",
    "                img_path = os.path.join(os.path.join(dataset, folder), file)\n",
    "                \n",
    "                # Open and resize the img\n",
    "                image = pre_process(img_path) \n",
    "                \n",
    "                # Append the image and its corresponding label to the output\n",
    "                images.append(image)\n",
    "                labels.append(label)\n",
    "                \n",
    "        images = np.array(images, dtype = 'float32')\n",
    "        labels = np.array(labels, dtype = 'int32')   \n",
    "        \n",
    "        output.append((images, labels))\n",
    "\n",
    "    return output"
   ]
  },
  {
   "cell_type": "code",
   "execution_count": 26,
   "metadata": {},
   "outputs": [
    {
     "name": "stdout",
     "output_type": "stream",
     "text": [
      "Loading C:/Users/sanju/OneDrive/Desktop/Nitheesh/Medicinal plant/Segmented\n"
     ]
    },
    {
     "name": "stderr",
     "output_type": "stream",
     "text": [
      "100%|██████████| 500/500 [00:03<00:00, 140.37it/s]\n",
      "100%|██████████| 500/500 [00:03<00:00, 159.01it/s]\n",
      "100%|██████████| 480/480 [00:03<00:00, 159.12it/s]\n",
      "100%|██████████| 500/500 [00:03<00:00, 148.52it/s]\n",
      "100%|██████████| 500/500 [00:03<00:00, 143.98it/s]\n",
      "100%|██████████| 500/500 [00:03<00:00, 149.69it/s]\n",
      "100%|██████████| 360/360 [00:02<00:00, 157.42it/s]\n",
      "100%|██████████| 500/500 [00:03<00:00, 125.08it/s]\n",
      "100%|██████████| 430/430 [00:03<00:00, 142.37it/s]\n",
      "100%|██████████| 500/500 [00:03<00:00, 131.48it/s]\n",
      "100%|██████████| 340/340 [00:02<00:00, 137.19it/s]\n",
      "100%|██████████| 500/500 [00:04<00:00, 120.45it/s]\n",
      "100%|██████████| 500/500 [00:03<00:00, 128.84it/s]\n",
      "100%|██████████| 390/390 [00:03<00:00, 126.52it/s]\n",
      "100%|██████████| 500/500 [00:03<00:00, 129.50it/s]\n",
      "100%|██████████| 500/500 [00:03<00:00, 141.06it/s]\n",
      "100%|██████████| 500/500 [00:03<00:00, 134.07it/s]\n",
      "100%|██████████| 500/500 [00:03<00:00, 139.94it/s]\n",
      "100%|██████████| 480/480 [00:03<00:00, 133.23it/s]\n",
      "100%|██████████| 500/500 [00:03<00:00, 127.76it/s]\n",
      "100%|██████████| 500/500 [00:03<00:00, 135.67it/s]\n",
      "100%|██████████| 500/500 [00:03<00:00, 142.51it/s]\n",
      "100%|██████████| 400/400 [00:02<00:00, 141.16it/s]\n",
      "100%|██████████| 500/500 [00:03<00:00, 146.67it/s]\n",
      "100%|██████████| 500/500 [00:03<00:00, 138.60it/s]\n",
      "100%|██████████| 500/500 [00:03<00:00, 146.44it/s]\n",
      "100%|██████████| 500/500 [00:03<00:00, 140.53it/s]\n",
      "100%|██████████| 500/500 [00:03<00:00, 140.88it/s]\n",
      "100%|██████████| 500/500 [00:03<00:00, 132.26it/s]\n",
      "100%|██████████| 500/500 [00:03<00:00, 140.06it/s]\n"
     ]
    },
    {
     "name": "stdout",
     "output_type": "stream",
     "text": [
      "Loading C:/Users/sanju/OneDrive/Desktop/Nitheesh/Test\n"
     ]
    },
    {
     "name": "stderr",
     "output_type": "stream",
     "text": [
      "100%|██████████| 112/112 [00:02<00:00, 54.45it/s]\n",
      "100%|██████████| 67/67 [00:01<00:00, 56.25it/s]\n",
      "100%|██████████| 107/107 [00:01<00:00, 61.24it/s]\n",
      "100%|██████████| 59/59 [00:00<00:00, 60.52it/s]\n",
      "100%|██████████| 109/109 [00:01<00:00, 59.90it/s]\n",
      "100%|██████████| 116/116 [00:01<00:00, 61.97it/s]\n",
      "100%|██████████| 64/64 [00:00<00:00, 66.08it/s]\n",
      "100%|██████████| 49/49 [00:00<00:00, 58.39it/s]\n",
      "100%|██████████| 69/69 [00:01<00:00, 59.06it/s]\n",
      "100%|██████████| 64/64 [00:01<00:00, 57.98it/s]\n",
      "100%|██████████| 94/94 [00:01<00:00, 56.52it/s]\n",
      "100%|██████████| 74/74 [00:01<00:00, 57.27it/s]\n",
      "100%|██████████| 84/84 [00:01<00:00, 61.23it/s]\n",
      "100%|██████████| 108/108 [00:01<00:00, 61.21it/s]\n",
      "100%|██████████| 82/82 [00:01<00:00, 60.25it/s]\n",
      "100%|██████████| 149/149 [00:02<00:00, 61.69it/s]\n",
      "100%|██████████| 54/54 [00:00<00:00, 58.71it/s]\n",
      "100%|██████████| 104/104 [00:01<00:00, 62.53it/s]\n",
      "100%|██████████| 89/89 [00:01<00:00, 60.52it/s]\n",
      "100%|██████████| 132/132 [00:02<00:00, 62.77it/s]\n",
      "100%|██████████| 84/84 [00:01<00:00, 67.53it/s]\n",
      "100%|██████████| 79/79 [00:01<00:00, 68.16it/s]\n",
      "100%|██████████| 59/59 [00:00<00:00, 64.86it/s]\n",
      "100%|██████████| 59/59 [00:00<00:00, 63.59it/s]\n",
      "100%|██████████| 69/69 [00:01<00:00, 60.52it/s]\n",
      "100%|██████████| 35/35 [00:00<00:00, 65.31it/s]\n",
      "100%|██████████| 99/99 [00:01<00:00, 64.60it/s]\n",
      "100%|██████████| 34/34 [00:00<00:00, 64.75it/s]\n",
      "100%|██████████| 69/69 [00:01<00:00, 64.52it/s]\n",
      "100%|██████████| 99/99 [00:01<00:00, 67.55it/s]\n"
     ]
    }
   ],
   "source": [
    "(train_images, train_labels), (test_images, test_labels) = load_data()"
   ]
  },
  {
   "cell_type": "code",
   "execution_count": 29,
   "metadata": {},
   "outputs": [
    {
     "name": "stdout",
     "output_type": "stream",
     "text": [
      "Number of training examples: 14380\n",
      "Number of testing examples: 2472\n",
      "Each image is of size: (150, 150)\n"
     ]
    }
   ],
   "source": [
    "n_train = train_labels.shape[0]\n",
    "n_test = test_labels.shape[0]\n",
    "\n",
    "print (\"Number of training examples: {}\".format(n_train))\n",
    "print (\"Number of testing examples: {}\".format(n_test))\n",
    "print (\"Each image is of size: {}\".format(IMAGE_SIZE))"
   ]
  },
  {
   "cell_type": "code",
   "execution_count": 30,
   "metadata": {},
   "outputs": [
    {
     "ename": "MemoryError",
     "evalue": "Unable to allocate 3.62 GiB for an array with shape (14380, 150, 150, 3) and data type float32",
     "output_type": "error",
     "traceback": [
      "\u001b[1;31m---------------------------------------------------------------------------\u001b[0m",
      "\u001b[1;31mMemoryError\u001b[0m                               Traceback (most recent call last)",
      "Cell \u001b[1;32mIn[30], line 1\u001b[0m\n\u001b[1;32m----> 1\u001b[0m train_images \u001b[39m=\u001b[39m train_images \u001b[39m/\u001b[39;49m \u001b[39m255.0\u001b[39;49m \n\u001b[0;32m      2\u001b[0m test_images \u001b[39m=\u001b[39m test_images \u001b[39m/\u001b[39m \u001b[39m255.0\u001b[39m\n",
      "\u001b[1;31mMemoryError\u001b[0m: Unable to allocate 3.62 GiB for an array with shape (14380, 150, 150, 3) and data type float32"
     ]
    }
   ],
   "source": [
    "train_images = train_images / 255.0 \n",
    "test_images = test_images / 255.0"
   ]
  },
  {
   "cell_type": "code",
   "execution_count": null,
   "metadata": {},
   "outputs": [],
   "source": [
    "model = tf.keras.Sequential([\n",
    "    tf.keras.layers.Conv2D(32, (3, 3), activation = 'relu', input_shape = (150, 150, 3)), \n",
    "    tf.keras.layers.MaxPooling2D(2,2),\n",
    "    tf.keras.layers.Conv2D(32, (3, 3), activation = 'relu'),\n",
    "    tf.keras.layers.MaxPooling2D(2,2),\n",
    "    tf.keras.layers.Flatten(),\n",
    "    tf.keras.layers.Dense(128, activation=tf.nn.relu),\n",
    "    tf.keras.layers.Dense(30, activation=tf.nn.softmax)\n",
    "])"
   ]
  },
  {
   "cell_type": "code",
   "execution_count": null,
   "metadata": {},
   "outputs": [],
   "source": [
    "model.compile(optimizer = 'adam', loss = 'sparse_categorical_crossentropy', metrics=['accuracy'])"
   ]
  },
  {
   "cell_type": "code",
   "execution_count": null,
   "metadata": {},
   "outputs": [],
   "source": [
    "history = model.fit(train_images, train_labels, batch_size=128, epochs=20, validation_split = 0.2)"
   ]
  }
 ],
 "metadata": {
  "kernelspec": {
   "display_name": "Python 3",
   "language": "python",
   "name": "python3"
  },
  "language_info": {
   "codemirror_mode": {
    "name": "ipython",
    "version": 3
   },
   "file_extension": ".py",
   "mimetype": "text/x-python",
   "name": "python",
   "nbconvert_exporter": "python",
   "pygments_lexer": "ipython3",
   "version": "3.11.2"
  },
  "orig_nbformat": 4
 },
 "nbformat": 4,
 "nbformat_minor": 2
}
